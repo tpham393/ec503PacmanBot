{
 "cells": [
  {
   "cell_type": "code",
   "execution_count": 6,
   "metadata": {},
   "outputs": [],
   "source": [
    "import numpy as np"
   ]
  },
  {
   "cell_type": "code",
   "execution_count": 3,
   "metadata": {},
   "outputs": [],
   "source": [
    "def read_policy(file):\n",
    "    policy = [];\n",
    "    line = f.readline();\n",
    "    while line:\n",
    "        line = line[0:-1];\n",
    "        policy.append(int(line));\n",
    "        line = f.readline();\n",
    "    \n",
    "    return policy"
   ]
  },
  {
   "cell_type": "code",
   "execution_count": 4,
   "metadata": {},
   "outputs": [],
   "source": [
    "f = open(\"../Wall+Multiple/valueIter.txt\",'r');\n",
    "value_policy = read_policy(f)\n",
    "\n",
    "f = open(\"../Wall+Multiple/policyIter.txt\",'r');\n",
    "policy_policy = read_policy(f)\n",
    "\n",
    "f = open(\"../Wall+Multiple/qLearning_eps1000.txt\",'r');\n",
    "qLearning_1000_policy = read_policy(f)\n",
    "\n",
    "f = open(\"../Wall+Multiple/qLearning_eps10000.txt\",'r');\n",
    "qLearning_10000_policy = read_policy(f)\n",
    "\n",
    "f = open(\"../Wall+Multiple/qLearning_eps1000000.txt\",'r');\n",
    "qLearning_1000000_policy = read_policy(f)"
   ]
  },
  {
   "cell_type": "code",
   "execution_count": 11,
   "metadata": {},
   "outputs": [
    {
     "name": "stdout",
     "output_type": "stream",
     "text": [
      "Number of states where policies differ\n",
      "Value iter vs value iter:  0\n",
      "Value iter vs policy iter:  1670\n",
      "Value iter vs q-learning 1000:  37814\n",
      "Value iter vs q-learning 10,000:  37335\n",
      "Value iter vs q-learning 1,000,000:  34784\n"
     ]
    }
   ],
   "source": [
    "print('Number of states where policies differ')\n",
    "print( 'Value iter vs policy iter: ', np.count_nonzero(np.asarray(value_policy) - np.asarray(policy_policy)) )\n",
    "print( 'Value iter vs q-learning 1000: ', np.count_nonzero(np.asarray(value_policy) - np.asarray(qLearning_1000_policy)) )\n",
    "print( 'Value iter vs q-learning 10,000: ', np.count_nonzero(np.asarray(value_policy) - np.asarray(qLearning_10000_policy)) )\n",
    "print( 'Value iter vs q-learning 1,000,000: ', np.count_nonzero(np.asarray(value_policy) - np.asarray(qLearning_1000000_policy)) )"
   ]
  },
  {
   "cell_type": "code",
   "execution_count": 12,
   "metadata": {},
   "outputs": [
    {
     "name": "stdout",
     "output_type": "stream",
     "text": [
      "Number of states where policies differ\n",
      "Policy iter vs q-learning 1000:  37233\n",
      "Policy iter vs q-learning 10,000:  36745\n",
      "Policy iter vs q-learning 1,000,000:  34242\n"
     ]
    }
   ],
   "source": [
    "print('Number of states where policies differ')\n",
    "print( 'Policy iter vs q-learning 1000: ', np.count_nonzero(np.asarray(policy_policy) - np.asarray(qLearning_1000_policy)) )\n",
    "print( 'Policy iter vs q-learning 10,000: ', np.count_nonzero(np.asarray(policy_policy) - np.asarray(qLearning_10000_policy)) )\n",
    "print( 'Policy iter vs q-learning 1,000,000: ', np.count_nonzero(np.asarray(policy_policy) - np.asarray(qLearning_1000000_policy)) )"
   ]
  },
  {
   "cell_type": "code",
   "execution_count": 13,
   "metadata": {},
   "outputs": [
    {
     "name": "stdout",
     "output_type": "stream",
     "text": [
      "Number of states where policies differ\n",
      "q-learning 1,000 vs q-learning 10,000:  2144\n",
      "q-learning 1,000 vs q-learning 1,000,000:  6003\n"
     ]
    }
   ],
   "source": [
    "print('Number of states where policies differ')\n",
    "print( 'q-learning 1,000 vs q-learning 10,000: ', np.count_nonzero(np.asarray(qLearning_1000_policy) - np.asarray(qLearning_10000_policy)) )\n",
    "print( 'q-learning 1,000 vs q-learning 1,000,000: ', np.count_nonzero(np.asarray(qLearning_1000_policy) - np.asarray(qLearning_1000000_policy)) )"
   ]
  },
  {
   "cell_type": "code",
   "execution_count": 14,
   "metadata": {},
   "outputs": [
    {
     "name": "stdout",
     "output_type": "stream",
     "text": [
      "Number of states where policies differ\n",
      "q-learning 10,000 vs q-learning 1,000,000:  5298\n"
     ]
    }
   ],
   "source": [
    "print('Number of states where policies differ')\n",
    "print( 'q-learning 10,000 vs q-learning 1,000,000: ', np.count_nonzero(np.asarray(qLearning_10000_policy) - np.asarray(qLearning_1000000_policy)) )"
   ]
  },
  {
   "cell_type": "code",
   "execution_count": null,
   "metadata": {},
   "outputs": [],
   "source": []
  }
 ],
 "metadata": {
  "kernelspec": {
   "display_name": "Python 3",
   "language": "python",
   "name": "python3"
  },
  "language_info": {
   "codemirror_mode": {
    "name": "ipython",
    "version": 3
   },
   "file_extension": ".py",
   "mimetype": "text/x-python",
   "name": "python",
   "nbconvert_exporter": "python",
   "pygments_lexer": "ipython3",
   "version": "3.7.4"
  }
 },
 "nbformat": 4,
 "nbformat_minor": 2
}
