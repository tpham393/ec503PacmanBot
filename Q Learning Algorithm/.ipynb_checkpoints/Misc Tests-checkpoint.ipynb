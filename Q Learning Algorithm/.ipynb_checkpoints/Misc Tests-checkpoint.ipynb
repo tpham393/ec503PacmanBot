{
 "cells": [
  {
   "cell_type": "code",
   "execution_count": null,
   "metadata": {},
   "outputs": [],
   "source": [
    "### TEST ###\n",
    "# confirm that value of done in tuple corresponds to [current_state][action]\n",
    "# and should be the same across all actions b/c terminating condition depends on\n",
    "# location of pacman and the ghost\n",
    "\n",
    "env = PacmanEnv()\n",
    "\n",
    "indices = []\n",
    "\n",
    "for s in range(env.num_states):\n",
    "    for a in range(env.num_actions):\n",
    "        for ns in range(env.num_actions):\n",
    "            if (env.P[s][a][ns][3] == True):\n",
    "                indices.append(env.P[s][a])\n",
    "                \n",
    "print(indices[0])\n",
    "print(indices[1])"
   ]
  },
  {
   "cell_type": "code",
   "execution_count": null,
   "metadata": {},
   "outputs": [],
   "source": [
    "### TEST ### \n",
    "# while loop converges\n",
    "\n",
    "converged = False\n",
    "step = 0\n",
    "\n",
    "while not converged:\n",
    "    print('step ', step)\n",
    "    # do some stuff\n",
    "    \n",
    "    converged = (step == 3)\n",
    "    print('converged: ', converged)\n",
    "    step += 1"
   ]
  },
  {
   "cell_type": "code",
   "execution_count": null,
   "metadata": {},
   "outputs": [],
   "source": [
    "### TEST ### \n",
    "# while loop does not converge despite change in converged variable value\n",
    "\n",
    "converged = False\n",
    "step = 0\n",
    "\n",
    "while ~converged:\n",
    "    print('step ', step)\n",
    "    # do some stuff\n",
    "    \n",
    "    converged = (step == 3)\n",
    "    print('converged: ', converged)\n",
    "    step += 1"
   ]
  }
 ],
 "metadata": {
  "kernelspec": {
   "display_name": "Python 3",
   "language": "python",
   "name": "python3"
  },
  "language_info": {
   "codemirror_mode": {
    "name": "ipython",
    "version": 3
   },
   "file_extension": ".py",
   "mimetype": "text/x-python",
   "name": "python",
   "nbconvert_exporter": "python",
   "pygments_lexer": "ipython3",
   "version": "3.7.4"
  }
 },
 "nbformat": 4,
 "nbformat_minor": 2
}
