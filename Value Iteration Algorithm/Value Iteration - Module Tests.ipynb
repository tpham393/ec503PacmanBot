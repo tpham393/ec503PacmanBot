{
 "cells": [
  {
   "cell_type": "code",
   "execution_count": 1,
   "metadata": {},
   "outputs": [],
   "source": [
    "import sys\n",
    "import numpy as np\n",
    "\n",
    "UP = 0\n",
    "RIGHT = 1\n",
    "DOWN = 2\n",
    "LEFT = 3"
   ]
  },
  {
   "cell_type": "code",
   "execution_count": 3,
   "metadata": {},
   "outputs": [
    {
     "name": "stdout",
     "output_type": "stream",
     "text": [
      "True\n",
      "True\n",
      "True\n",
      "True\n",
      "True\n",
      "True\n"
     ]
    }
   ],
   "source": [
    "# parameters must be of the same type, i.e. [x,y] or int value 0-8\n",
    "# need to adjust to include reward definition for bumping into walls\n",
    "def calculate_reward(pacman_location, ghost_location, pellet_location):\n",
    "    if pacman_location == pellet_location:\n",
    "        return 1000\n",
    "    elif pacman_location == ghost_location:\n",
    "        return -1000\n",
    "    else:\n",
    "        return 0\n",
    "\n",
    "# TEST\n",
    "pl = [2,2]\n",
    "print(calculate_reward([0,0], [0,0], pl) == -1000)\n",
    "print(calculate_reward([2,2], [1,0], pl) == 1000)\n",
    "print(calculate_reward([0,0], [0,1], pl) == 0)\n",
    "print(calculate_reward(0,0,8) == -1000)\n",
    "print(calculate_reward(8,0,8) == 1000)\n",
    "print(calculate_reward(0,1,8) == 0)"
   ]
  },
  {
   "cell_type": "code",
   "execution_count": 5,
   "metadata": {},
   "outputs": [
    {
     "name": "stdout",
     "output_type": "stream",
     "text": [
      "([[0, 0], [0, 0]], -1000)\n",
      "([[0, 0], [0, 1]], 0)\n",
      "([[0, 0], [0, 2]], 0)\n",
      "([[0, 0], [1, 0]], 0)\n",
      "([[0, 0], [1, 1]], 0)\n",
      "([[0, 0], [1, 2]], 0)\n",
      "([[0, 0], [2, 0]], 0)\n",
      "([[0, 0], [2, 1]], 0)\n",
      "([[0, 0], [2, 2]], 0)\n",
      "([[0, 1], [0, 0]], 0)\n",
      "([[0, 1], [0, 1]], -1000)\n",
      "([[0, 1], [0, 2]], 0)\n",
      "([[0, 1], [1, 0]], 0)\n",
      "([[0, 1], [1, 1]], 0)\n",
      "([[0, 1], [1, 2]], 0)\n",
      "([[0, 1], [2, 0]], 0)\n",
      "([[0, 1], [2, 1]], 0)\n",
      "([[0, 1], [2, 2]], 0)\n",
      "([[0, 2], [0, 0]], 0)\n",
      "([[0, 2], [0, 1]], 0)\n",
      "([[0, 2], [0, 2]], -1000)\n",
      "([[0, 2], [1, 0]], 0)\n",
      "([[0, 2], [1, 1]], 0)\n",
      "([[0, 2], [1, 2]], 0)\n",
      "([[0, 2], [2, 0]], 0)\n",
      "([[0, 2], [2, 1]], 0)\n",
      "([[0, 2], [2, 2]], 0)\n",
      "([[1, 0], [0, 0]], 0)\n",
      "([[1, 0], [0, 1]], 0)\n",
      "([[1, 0], [0, 2]], 0)\n",
      "([[1, 0], [1, 0]], -1000)\n",
      "([[1, 0], [1, 1]], 0)\n",
      "([[1, 0], [1, 2]], 0)\n",
      "([[1, 0], [2, 0]], 0)\n",
      "([[1, 0], [2, 1]], 0)\n",
      "([[1, 0], [2, 2]], 0)\n",
      "([[1, 1], [0, 0]], 0)\n",
      "([[1, 1], [0, 1]], 0)\n",
      "([[1, 1], [0, 2]], 0)\n",
      "([[1, 1], [1, 0]], 0)\n",
      "([[1, 1], [1, 1]], -1000)\n",
      "([[1, 1], [1, 2]], 0)\n",
      "([[1, 1], [2, 0]], 0)\n",
      "([[1, 1], [2, 1]], 0)\n",
      "([[1, 1], [2, 2]], 0)\n",
      "([[1, 2], [0, 0]], 0)\n",
      "([[1, 2], [0, 1]], 0)\n",
      "([[1, 2], [0, 2]], 0)\n",
      "([[1, 2], [1, 0]], 0)\n",
      "([[1, 2], [1, 1]], 0)\n",
      "([[1, 2], [1, 2]], -1000)\n",
      "([[1, 2], [2, 0]], 0)\n",
      "([[1, 2], [2, 1]], 0)\n",
      "([[1, 2], [2, 2]], 0)\n",
      "([[2, 0], [0, 0]], 0)\n",
      "([[2, 0], [0, 1]], 0)\n",
      "([[2, 0], [0, 2]], 0)\n",
      "([[2, 0], [1, 0]], 0)\n",
      "([[2, 0], [1, 1]], 0)\n",
      "([[2, 0], [1, 2]], 0)\n",
      "([[2, 0], [2, 0]], -1000)\n",
      "([[2, 0], [2, 1]], 0)\n",
      "([[2, 0], [2, 2]], 0)\n",
      "([[2, 1], [0, 0]], 0)\n",
      "([[2, 1], [0, 1]], 0)\n",
      "([[2, 1], [0, 2]], 0)\n",
      "([[2, 1], [1, 0]], 0)\n",
      "([[2, 1], [1, 1]], 0)\n",
      "([[2, 1], [1, 2]], 0)\n",
      "([[2, 1], [2, 0]], 0)\n",
      "([[2, 1], [2, 1]], -1000)\n",
      "([[2, 1], [2, 2]], 0)\n",
      "([[2, 2], [0, 0]], 1000)\n",
      "([[2, 2], [0, 1]], 1000)\n",
      "([[2, 2], [0, 2]], 1000)\n",
      "([[2, 2], [1, 0]], 1000)\n",
      "([[2, 2], [1, 1]], 1000)\n",
      "([[2, 2], [1, 2]], 1000)\n",
      "([[2, 2], [2, 0]], 1000)\n",
      "([[2, 2], [2, 1]], 1000)\n",
      "([[2, 2], [2, 2]], 1000)\n"
     ]
    }
   ],
   "source": [
    "'''\n",
    "enumerate states and associated rewards for a 3x3 grid ==> 81 states \n",
    "(9 choices for pacman location x 9 choices for ghost location)\n",
    "\n",
    "^    __|__|__\n",
    "|    __|__|__\n",
    "y      |  |\n",
    "    x -->\n",
    "\n",
    "x,y = (0,0) corresponds to the bottom-left corner\n",
    "x,y = (2,2) corresponds to the top-right corner\n",
    "\n",
    "each states[s] = an array of 2 entries:\n",
    "    the first is the x,y coordinates of pacman's position\n",
    "    the second is the x,y coordinates of the ghost's position\n",
    "\n",
    "Assume pellet is initialized to the top-right corner (2,2)\n",
    "\n",
    "'''\n",
    "\n",
    "states_xy = [];\n",
    "\n",
    "for s in range(81):\n",
    "    for x_p in range(3):\n",
    "        for y_p in range(3):\n",
    "            for x_g in range(3):\n",
    "                for y_g in range(3):\n",
    "                    reward = calculate_reward([x_p, y_p], [x_g, y_g], [2,2])\n",
    "                    states_xy.append( ([[x_p,y_p],[x_g,y_g]], reward) )\n",
    "                    \n",
    "for s in range(81):\n",
    "    print(states_xy[s])"
   ]
  },
  {
   "cell_type": "code",
   "execution_count": 7,
   "metadata": {},
   "outputs": [
    {
     "name": "stdout",
     "output_type": "stream",
     "text": [
      "([[0, 0], [0, 0]], -1000)\n",
      "[[0, 0], [0, 0]]\n",
      "-1000\n",
      "[0, 0]\n",
      "[0, 0]\n",
      "0\n"
     ]
    }
   ],
   "source": [
    "# TEST\n",
    "\n",
    "print(states_xy[0]) # returns tuple: nested array of 2 entries (pacman_loc, ghost_loc), reward value\n",
    "print(states_xy[0][0]) # returns nested array of 2 entries (pacman_loc, ghost_loc)\n",
    "print(states_xy[0][1]) # returns reward value\n",
    "print(states_xy[0][0][0]) # returns array of either pacman_loc (x,y)\n",
    "print(states_xy[0][0][1]) # returns array of ghost_loc (x,y)\n",
    "print(states_xy[0][0][0][0]) # returns pacman_loc x-coordinate"
   ]
  },
  {
   "cell_type": "code",
   "execution_count": 8,
   "metadata": {},
   "outputs": [
    {
     "name": "stdout",
     "output_type": "stream",
     "text": [
      "True\n",
      "True\n",
      "True\n"
     ]
    }
   ],
   "source": [
    "'''\n",
    "Returns corresponding (x,y) coordinate pair for valid grid location integer input\n",
    "If number out of range, returns 'invalid entry' error message\n",
    "'''\n",
    "\n",
    "def grid_to_xy(number):\n",
    "    switch = {\n",
    "        0: [0,0],\n",
    "        1: [0,1],\n",
    "        2: [0,2],\n",
    "        3: [1,0],\n",
    "        4: [1,1],\n",
    "        5: [1,2],\n",
    "        6: [2,0],\n",
    "        7: [2,1],\n",
    "        8: [2,2]\n",
    "    }\n",
    "    return switch.get(number, \"invalid entry\")\n",
    "\n",
    "# TEST\n",
    "print(grid_to_xy(1) == [0,1])\n",
    "print(grid_to_xy(8) == [2,2])\n",
    "print(grid_to_xy(9) == \"invalid entry\")"
   ]
  },
  {
   "cell_type": "code",
   "execution_count": 9,
   "metadata": {},
   "outputs": [
    {
     "name": "stdout",
     "output_type": "stream",
     "text": [
      "True\n",
      "True\n",
      "True\n",
      "True\n",
      "True\n",
      "True\n"
     ]
    }
   ],
   "source": [
    "'''\n",
    "Returns corresponding grid location # for given (x,y) coordinate pair input\n",
    "If number out of range, returns 'invalid entry' error message\n",
    "'''\n",
    "\n",
    "def xy_to_grid(x,y):\n",
    "    switch = {\n",
    "        0: {0:0, 1:1, 2:2},\n",
    "        1: {0:3, 1:4, 2:5},\n",
    "        2: {0:6, 1:7, 2:8}\n",
    "    }\n",
    "    x = switch.get(x,\"invalid entry\")\n",
    "    \n",
    "    if x == \"invalid entry\":\n",
    "        return x\n",
    "    else:\n",
    "        return x.get(y,\"invalid entry\")\n",
    "\n",
    "# TEST\n",
    "print(xy_to_grid(0,0) == 0) \n",
    "print(xy_to_grid(0,1) == 1)\n",
    "print(xy_to_grid(1,1) == 4)\n",
    "print(xy_to_grid(2,2) == 8)\n",
    "print(xy_to_grid(3,1) == \"invalid entry\")\n",
    "print(xy_to_grid(1,3) == \"invalid entry\")"
   ]
  },
  {
   "cell_type": "code",
   "execution_count": 10,
   "metadata": {},
   "outputs": [
    {
     "name": "stdout",
     "output_type": "stream",
     "text": [
      "True\n",
      "True\n",
      "True\n",
      "True\n",
      "True\n",
      "True\n",
      "True\n",
      "True\n",
      "True\n",
      "True\n",
      "True\n",
      "True\n",
      "True\n"
     ]
    }
   ],
   "source": [
    "def pacman_move(current_row, current_col, action):\n",
    "    if action == UP:\n",
    "        current_row = min(2, current_row+1)\n",
    "    elif action == RIGHT:\n",
    "        current_col = min(2, current_col+1)\n",
    "    elif action == DOWN:\n",
    "        current_row = max(0, current_row-1)\n",
    "    elif action == LEFT:\n",
    "        current_col = max(0, current_col-1)\n",
    "    return (current_row, current_col)\n",
    "\n",
    "# TEST\n",
    "print(pacman_move(0,0,UP) == (1,0))\n",
    "print(pacman_move(0,0,LEFT) == (0,0))\n",
    "print(pacman_move(0,0,DOWN) == (0,0))\n",
    "print(pacman_move(0,0,RIGHT) == (0,1))\n",
    "\n",
    "print(pacman_move(2,1,LEFT) == (2,0))\n",
    "print(pacman_move(2,1,UP) == (2,1))\n",
    "print(pacman_move(2,0,LEFT) == (2,0))\n",
    "\n",
    "print(pacman_move(2,2,RIGHT) == (2,2))\n",
    "print(pacman_move(2,2,UP) == (2,2))\n",
    "print(pacman_move(2,2,LEFT) == (2,1))\n",
    "print(pacman_move(2,2,DOWN) == (1,2))\n",
    "\n",
    "print(pacman_move(0,2,RIGHT) == (0,2))\n",
    "print(pacman_move(0,2,DOWN) == (0,2))"
   ]
  },
  {
   "cell_type": "code",
   "execution_count": 14,
   "metadata": {},
   "outputs": [
    {
     "name": "stdout",
     "output_type": "stream",
     "text": [
      "0\n",
      "1\n",
      "20\n"
     ]
    }
   ],
   "source": [
    "states_num = [];\n",
    "\n",
    "for s in range(81):\n",
    "    for p in range(9):\n",
    "        for g in range(9):\n",
    "            states_num.append( (p, g) )\n",
    "\n",
    "def return_state(p, g):\n",
    "    return states_num.index( (p,g) )\n",
    "\n",
    "# TEST\n",
    "print(return_state(0,0))\n",
    "print(return_state(0,1))\n",
    "print(return_state(2,2))"
   ]
  },
  {
   "cell_type": "code",
   "execution_count": 13,
   "metadata": {},
   "outputs": [
    {
     "name": "stdout",
     "output_type": "stream",
     "text": [
      "{0: {0: [], 1: [], 2: [], 3: []}, 1: {0: [], 1: [], 2: [], 3: []}, 2: {0: [], 1: [], 2: [], 3: []}, 3: {0: [], 1: [], 2: [], 3: []}, 4: {0: [], 1: [], 2: [], 3: []}, 5: {0: [], 1: [], 2: [], 3: []}, 6: {0: [], 1: [], 2: [], 3: []}, 7: {0: [], 1: [], 2: [], 3: []}, 8: {0: [], 1: [], 2: [], 3: []}, 9: {0: [], 1: [], 2: [], 3: []}, 10: {0: [], 1: [], 2: [], 3: []}, 11: {0: [], 1: [], 2: [], 3: []}, 12: {0: [], 1: [], 2: [], 3: []}, 13: {0: [], 1: [], 2: [], 3: []}, 14: {0: [], 1: [], 2: [], 3: []}, 15: {0: [], 1: [], 2: [], 3: []}, 16: {0: [], 1: [], 2: [], 3: []}, 17: {0: [], 1: [], 2: [], 3: []}, 18: {0: [], 1: [], 2: [], 3: []}, 19: {0: [], 1: [], 2: [], 3: []}, 20: {0: [], 1: [], 2: [], 3: []}, 21: {0: [], 1: [], 2: [], 3: []}, 22: {0: [], 1: [], 2: [], 3: []}, 23: {0: [], 1: [], 2: [], 3: []}, 24: {0: [], 1: [], 2: [], 3: []}, 25: {0: [], 1: [], 2: [], 3: []}, 26: {0: [], 1: [], 2: [], 3: []}, 27: {0: [], 1: [], 2: [], 3: []}, 28: {0: [], 1: [], 2: [], 3: []}, 29: {0: [], 1: [], 2: [], 3: []}, 30: {0: [], 1: [], 2: [], 3: []}, 31: {0: [], 1: [], 2: [], 3: []}, 32: {0: [], 1: [], 2: [], 3: []}, 33: {0: [], 1: [], 2: [], 3: []}, 34: {0: [], 1: [], 2: [], 3: []}, 35: {0: [], 1: [], 2: [], 3: []}, 36: {0: [], 1: [], 2: [], 3: []}, 37: {0: [], 1: [], 2: [], 3: []}, 38: {0: [], 1: [], 2: [], 3: []}, 39: {0: [], 1: [], 2: [], 3: []}, 40: {0: [], 1: [], 2: [], 3: []}, 41: {0: [], 1: [], 2: [], 3: []}, 42: {0: [], 1: [], 2: [], 3: []}, 43: {0: [], 1: [], 2: [], 3: []}, 44: {0: [], 1: [], 2: [], 3: []}, 45: {0: [], 1: [], 2: [], 3: []}, 46: {0: [], 1: [], 2: [], 3: []}, 47: {0: [], 1: [], 2: [], 3: []}, 48: {0: [], 1: [], 2: [], 3: []}, 49: {0: [], 1: [], 2: [], 3: []}, 50: {0: [], 1: [], 2: [], 3: []}, 51: {0: [], 1: [], 2: [], 3: []}, 52: {0: [], 1: [], 2: [], 3: []}, 53: {0: [], 1: [], 2: [], 3: []}, 54: {0: [], 1: [], 2: [], 3: []}, 55: {0: [], 1: [], 2: [], 3: []}, 56: {0: [], 1: [], 2: [], 3: []}, 57: {0: [], 1: [], 2: [], 3: []}, 58: {0: [], 1: [], 2: [], 3: []}, 59: {0: [], 1: [], 2: [], 3: []}, 60: {0: [], 1: [], 2: [], 3: []}, 61: {0: [], 1: [], 2: [], 3: []}, 62: {0: [], 1: [], 2: [], 3: []}, 63: {0: [], 1: [], 2: [], 3: []}, 64: {0: [], 1: [], 2: [], 3: []}, 65: {0: [], 1: [], 2: [], 3: []}, 66: {0: [], 1: [], 2: [], 3: []}, 67: {0: [], 1: [], 2: [], 3: []}, 68: {0: [], 1: [], 2: [], 3: []}, 69: {0: [], 1: [], 2: [], 3: []}, 70: {0: [], 1: [], 2: [], 3: []}, 71: {0: [], 1: [], 2: [], 3: []}, 72: {0: [], 1: [], 2: [], 3: []}, 73: {0: [], 1: [], 2: [], 3: []}, 74: {0: [], 1: [], 2: [], 3: []}, 75: {0: [], 1: [], 2: [], 3: []}, 76: {0: [], 1: [], 2: [], 3: []}, 77: {0: [], 1: [], 2: [], 3: []}, 78: {0: [], 1: [], 2: [], 3: []}, 79: {0: [], 1: [], 2: [], 3: []}, 80: {0: [], 1: [], 2: [], 3: []}}\n"
     ]
    }
   ],
   "source": [
    "P = {s : {a : [] for a in range(4)} for s in range(81)}\n",
    "\n",
    "print(P)"
   ]
  },
  {
   "cell_type": "code",
   "execution_count": null,
   "metadata": {},
   "outputs": [],
   "source": [
    "ns = 81\n",
    "na = 4\n",
    "\n",
    "def calculate_action_values(current_state, V):\n",
    "    action_values = np.zeros(env.num_actions)\n",
    "    for a in range(env.num_actions):\n",
    "        for prob, next_state, reward, done in env.P[current_state][a]:\n",
    "            action_values[a] += prob * (reward + (gamma * V[next_state]))\n",
    "    return action_values\n",
    "\n",
    "def extract_policy(V):\n",
    "    policy = np.zeros([ns, na])\n",
    "\n",
    "    for s in range(ns):\n",
    "        action_values = calculate_action_values(s, V)\n",
    "        best_action = np.argmax(action_values) # returns index of action that has maximum V\n",
    "        policy[s, best_action] = 1 # deterministic optimal policy, i.e. always take best_action for given state\n",
    "\n",
    "# TEST\n",
    "V = np.zeros(ns)\n",
    "policy = extract_policy(V)"
   ]
  }
 ],
 "metadata": {
  "kernelspec": {
   "display_name": "Python 3",
   "language": "python",
   "name": "python3"
  },
  "language_info": {
   "codemirror_mode": {
    "name": "ipython",
    "version": 3
   },
   "file_extension": ".py",
   "mimetype": "text/x-python",
   "name": "python",
   "nbconvert_exporter": "python",
   "pygments_lexer": "ipython3",
   "version": "3.7.4"
  }
 },
 "nbformat": 4,
 "nbformat_minor": 2
}
